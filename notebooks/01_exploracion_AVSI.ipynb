{
 "cells": [
  {
   "cell_type": "markdown",
   "id": "ca920b24",
   "metadata": {},
   "source": [
    "# 01 · Exploración de Datos (EDA) — AVSI\n",
    "**Artificial Vision Stacking Inspection** · *2025-10-22*\n",
    "  \n",
    "Este notebook realiza el **Análisis Exploratorio de Datos** para el proyecto **AVSI**, un sistema de visión por computador para la **inspección del apilamiento de pañales**.\n",
    "  \n",
    "**Objetivos del EDA**:\n",
    "- Verificar estructura de carpetas y conteos de imágenes (dataset de 100 y de 1000).\n",
    "- Explorar resoluciones, formatos y calidad de imagen.\n",
    "- Detectar posibles duplicados y outliers simples.\n",
    "- Revisar distribución de clases (si aplica) y balanceo.\n",
    "- Preparar insumos para preprocesamiento y entrenamiento.\n"
   ]
  },
  {
   "cell_type": "markdown",
   "id": "efc4e41a",
   "metadata": {},
   "source": [
    "## 1. Configuración y rutas del proyecto"
   ]
  },
  {
   "cell_type": "code",
   "execution_count": null,
   "id": "d6147bf4",
   "metadata": {},
   "outputs": [],
   "source": [
    "\n",
    "from pathlib import Path\n",
    "import os, sys, math, hashlib, itertools, random, warnings, json\n",
    "from collections import Counter, defaultdict\n",
    "from datetime import datetime\n",
    "\n",
    "import numpy as np\n",
    "import pandas as pd\n",
    "import matplotlib.pyplot as plt\n",
    "import cv2\n",
    "from PIL import Image\n",
    "\n",
    "# Opciones de visualización\n",
    "plt.rcParams['figure.dpi'] = 120\n",
    "pd.set_option('display.max_columns', 50)\n",
    "\n",
    "# Rutas base\n",
    "ROOT = Path('.').resolve()\n",
    "DATA_RAW = ROOT / 'data' / 'raw'\n",
    "DATA_PROC = ROOT / 'data' / 'processed'\n",
    "\n",
    "# Datasets esperados (puedes adaptar los nombres si difieren)\n",
    "DS_SMALL = DATA_RAW / 'dataset_100'\n",
    "DS_LARGE = DATA_RAW / 'dataset_1000'\n",
    "\n",
    "# Clases esperadas (si tu dataset está etiquetado por carpetas)\n",
    "EXPECTED_CLASSES = ['good_stack', 'bad_stack']  # ajustar si aplica\n",
    "\n",
    "print('ROOT:', ROOT)\n",
    "print('RAW:', DATA_RAW)\n",
    "print('SMALL:', DS_SMALL)\n",
    "print('LARGE:', DS_LARGE)\n"
   ]
  },
  {
   "cell_type": "markdown",
   "id": "3e2b08b8",
   "metadata": {},
   "source": [
    "## 2. Funciones auxiliares"
   ]
  },
  {
   "cell_type": "code",
   "execution_count": null,
   "id": "9c6e4d36",
   "metadata": {},
   "outputs": [],
   "source": [
    "\n",
    "IMG_EXTS = {'.jpg', '.jpeg', '.png', '.bmp', '.tif', '.tiff'}\n",
    "\n",
    "def list_images(folder: Path):\n",
    "    if not folder.exists():\n",
    "        return []\n",
    "    return [p for p in folder.rglob('*') if p.suffix.lower() in IMG_EXTS]\n",
    "\n",
    "def img_shape(path: Path):\n",
    "    try:\n",
    "        img = cv2.imread(str(path))\n",
    "        if img is None:\n",
    "            return None\n",
    "        h, w = img.shape[:2]\n",
    "        return (h, w)\n",
    "    except Exception as e:\n",
    "        return None\n",
    "\n",
    "def perceptual_hash(path: Path, size=8):\n",
    "    # Hash simple basado en downscale + diferencia (no cripto)\n",
    "    try:\n",
    "        img = Image.open(path).convert('L').resize((size+1, size), Image.LANCZOS)\n",
    "        diff = []\n",
    "        for y in range(size):\n",
    "            for x in range(size):\n",
    "                diff.append(img.getpixel((x, y)) > img.getpixel((x+1, y)))\n",
    "        # Convertimos bits a hex\n",
    "        v = 0\n",
    "        for i, bit in enumerate(diff):\n",
    "            v |= (1 if bit else 0) << i\n",
    "        return hex(v)\n",
    "    except Exception:\n",
    "        return None\n",
    "\n",
    "def brightness_estimate(path: Path):\n",
    "    try:\n",
    "        img = cv2.imread(str(path))\n",
    "        if img is None:\n",
    "            return None\n",
    "        gray = cv2.cvtColor(img, cv2.COLOR_BGR2GRAY)\n",
    "        return float(gray.mean())\n",
    "    except Exception:\n",
    "        return None\n",
    "\n",
    "def contrast_estimate(path: Path):\n",
    "    try:\n",
    "        img = cv2.imread(str(path))\n",
    "        if img is None:\n",
    "            return None\n",
    "        gray = cv2.cvtColor(img, cv2.COLOR_BGR2GRAY)\n",
    "        return float(gray.std())\n",
    "    except Exception:\n",
    "        return None\n"
   ]
  },
  {
   "cell_type": "markdown",
   "id": "9b711fc6",
   "metadata": {},
   "source": [
    "## 3. Inventario y verificación de datasets"
   ]
  },
  {
   "cell_type": "code",
   "execution_count": null,
   "id": "91c2fde0",
   "metadata": {},
   "outputs": [],
   "source": [
    "\n",
    "inv = []\n",
    "for name, folder in [('dataset_100', DS_SMALL), ('dataset_1000', DS_LARGE)]:\n",
    "    imgs = list_images(folder)\n",
    "    inv.append({'dataset': name, 'path': str(folder), 'num_images': len(imgs)})\n",
    "    \n",
    "df_inv = pd.DataFrame(inv)\n",
    "display(df_inv if not df_inv.empty else pd.DataFrame([{'dataset':'(no encontrado)', 'path':str(DS_SMALL), 'num_images':0},\n",
    "                                                     {'dataset':'(no encontrado)', 'path':str(DS_LARGE), 'num_images':0}]))\n",
    "\n",
    "print(\"\\nConsejo: si los conteos son 0, verifica las rutas o coloca tus imágenes en data/raw/dataset_100 y data/raw/dataset_1000.\")\n"
   ]
  },
  {
   "cell_type": "markdown",
   "id": "23791d4e",
   "metadata": {},
   "source": [
    "## 4. Muestreo y métricas básicas (resolución, brillo, contraste)"
   ]
  },
  {
   "cell_type": "code",
   "execution_count": null,
   "id": "1a827db2",
   "metadata": {},
   "outputs": [],
   "source": [
    "\n",
    "def scan_folder(folder: Path, max_samples=2000):\n",
    "    paths = list_images(folder)\n",
    "    paths = paths[:max_samples]  # límite razonable\n",
    "    rows = []\n",
    "    for p in paths:\n",
    "        shape = img_shape(p)\n",
    "        bright = brightness_estimate(p)\n",
    "        cont = contrast_estimate(p)\n",
    "        rows.append({\n",
    "            'path': str(p),\n",
    "            'fname': p.name,\n",
    "            'ext': p.suffix.lower(),\n",
    "            'height': shape[0] if shape else None,\n",
    "            'width': shape[1] if shape else None,\n",
    "            'brightness': bright,\n",
    "            'contrast': cont,\n",
    "            'phash': perceptual_hash(p)\n",
    "        })\n",
    "    return pd.DataFrame(rows)\n",
    "\n",
    "df_small = scan_folder(DS_SMALL) if DS_SMALL.exists() else pd.DataFrame()\n",
    "df_large = scan_folder(DS_LARGE) if DS_LARGE.exists() else pd.DataFrame()\n",
    "\n",
    "print('Muestras dataset_100:', len(df_small))\n",
    "print('Muestras dataset_1000:', len(df_large))\n",
    "\n",
    "display(df_small.head())\n",
    "display(df_large.head())\n"
   ]
  },
  {
   "cell_type": "markdown",
   "id": "19889a56",
   "metadata": {},
   "source": [
    "## 5. Visualizaciones rápidas"
   ]
  },
  {
   "cell_type": "code",
   "execution_count": null,
   "id": "d570746d",
   "metadata": {},
   "outputs": [],
   "source": [
    "\n",
    "def safe_hist(series, title, xlabel):\n",
    "    if series is None or series.dropna().empty:\n",
    "        print(f\"[Aviso] No hay datos para {title}\")\n",
    "        return\n",
    "    plt.figure()\n",
    "    plt.hist(series.dropna(), bins=30)\n",
    "    plt.title(title)\n",
    "    plt.xlabel(xlabel)\n",
    "    plt.ylabel('Frecuencia')\n",
    "    plt.show()\n",
    "\n",
    "print('— Dataset 100: tamaños')\n",
    "if not df_small.empty:\n",
    "    safe_hist(df_small['width'], 'Ancho (px) — dataset_100', 'width')\n",
    "    safe_hist(df_small['height'], 'Alto (px) — dataset_100', 'height')\n",
    "    safe_hist(df_small['brightness'], 'Brillo — dataset_100', 'mean(gray)')\n",
    "    safe_hist(df_small['contrast'], 'Contraste — dataset_100', 'std(gray)')\n",
    "\n",
    "print('— Dataset 1000: tamaños')\n",
    "if not df_large.empty:\n",
    "    safe_hist(df_large['width'], 'Ancho (px) — dataset_1000', 'width')\n",
    "    safe_hist(df_large['height'], 'Alto (px) — dataset_1000', 'height')\n",
    "    safe_hist(df_large['brightness'], 'Brillo — dataset_1000', 'mean(gray)')\n",
    "    safe_hist(df_large['contrast'], 'Contraste — dataset_1000', 'std(gray)')\n"
   ]
  },
  {
   "cell_type": "markdown",
   "id": "6d168c5b",
   "metadata": {},
   "source": [
    "## 6. Búsqueda simple de duplicados (perceptual hash)"
   ]
  },
  {
   "cell_type": "code",
   "execution_count": null,
   "id": "a757d2ca",
   "metadata": {},
   "outputs": [],
   "source": [
    "\n",
    "def find_duplicates(df):\n",
    "    if df.empty or 'phash' not in df.columns:\n",
    "        return pd.DataFrame()\n",
    "    dup = df.groupby('phash').filter(lambda g: len(g) > 1).sort_values('phash')\n",
    "    return dup\n",
    "\n",
    "dup_small = find_duplicates(df_small)\n",
    "dup_large = find_duplicates(df_large)\n",
    "\n",
    "print('Duplicados (dataset_100):', len(dup_small))\n",
    "display(dup_small.head(10))\n",
    "\n",
    "print('Duplicados (dataset_1000):', len(dup_large))\n",
    "display(dup_large.head(10))\n"
   ]
  },
  {
   "cell_type": "markdown",
   "id": "5cdf0169",
   "metadata": {},
   "source": [
    "## 7. Distribución de clases (si el dataset está organizado por carpetas de clase)"
   ]
  },
  {
   "cell_type": "code",
   "execution_count": null,
   "id": "f8ddc1dc",
   "metadata": {},
   "outputs": [],
   "source": [
    "\n",
    "def class_distribution(base_folder: Path, classes: list):\n",
    "    rows = []\n",
    "    for cls in classes:\n",
    "        cpath = base_folder / cls\n",
    "        rows.append({'class': cls, 'count': len(list_images(cpath))})\n",
    "    return pd.DataFrame(rows)\n",
    "\n",
    "if all((DS_SMALL / c).exists() for c in EXPECTED_CLASSES):\n",
    "    print('— Distribución dataset_100')\n",
    "    display(class_distribution(DS_SMALL, EXPECTED_CLASSES))\n",
    "\n",
    "if all((DS_LARGE / c).exists() for c in EXPECTED_CLASSES):\n",
    "    print('— Distribución dataset_1000')\n",
    "    display(class_distribution(DS_LARGE, EXPECTED_CLASSES))\n"
   ]
  },
  {
   "cell_type": "markdown",
   "id": "04891a79",
   "metadata": {},
   "source": [
    "## 8. Vista previa de imágenes aleatorias"
   ]
  },
  {
   "cell_type": "code",
   "execution_count": null,
   "id": "45c55d6c",
   "metadata": {},
   "outputs": [],
   "source": [
    "\n",
    "def show_samples(df, n=6, title='Muestras'):\n",
    "    if df.empty:\n",
    "        print('[Aviso] DataFrame vacío, no hay muestras para mostrar.')\n",
    "        return\n",
    "    sample_paths = df.sample(min(n, len(df)), random_state=42)['path'].tolist()\n",
    "    cols = 3\n",
    "    rows = math.ceil(len(sample_paths)/cols)\n",
    "    for i, p in enumerate(sample_paths, 1):\n",
    "        img = cv2.imread(p)\n",
    "        if img is None:\n",
    "            continue\n",
    "        img = cv2.cvtColor(img, cv2.COLOR_BGR2RGB)\n",
    "        plt.figure()\n",
    "        plt.imshow(img)\n",
    "        plt.title(Path(p).name)\n",
    "        plt.axis('off')\n",
    "        plt.show()\n",
    "\n",
    "print('— Muestras dataset_100')\n",
    "show_samples(df_small, n=6, title='dataset_100')\n",
    "\n",
    "print('— Muestras dataset_1000')\n",
    "show_samples(df_large, n=6, title='dataset_1000')\n"
   ]
  },
  {
   "cell_type": "markdown",
   "id": "79d661ef",
   "metadata": {},
   "source": [
    "## 9. Hallazgos y próximos pasos\n",
    "**Completar por el equipo (plantilla):**\n",
    "- **Resoluciones predominantes:** …\n",
    "- **Rango de brillo/contraste adecuado:** …\n",
    "- **Duplicados detectados:** …\n",
    "- **Desbalance de clases:** …\n",
    "- **Outliers relevantes (borrosas, muy oscuras, etc.):** …\n",
    "\n",
    "**Acciones para `/02_preprocesamiento.ipynb`:**\n",
    "- Redimensionar a tamaño estándar (224×224 o el requerido por el backbone).\n",
    "- Normalización de canales RGB.\n",
    "- Eliminación o etiquetado de duplicados/outliers.\n",
    "- Data augmentation (rotaciones, flips, jitter, brillo/contraste).\n",
    "- División estratificada en train/val/test.\n"
   ]
  },
  {
   "cell_type": "markdown",
   "id": "ae132de4",
   "metadata": {},
   "source": [
    "---\n",
    "### Reproducibilidad\n",
    "- Estructura esperada:\n",
    "```\n",
    "data/\n",
    "├── raw/\n",
    "│   ├── dataset_100/\n",
    "│   └── dataset_1000/\n",
    "└── processed/\n",
    "```\n",
    "- Este notebook **no modifica** `/data/raw`.  \n",
    "- Los gráficos se generan solo si hay imágenes en las rutas anteriores.\n"
   ]
  }
 ],
 "metadata": {
  "authors": [
   {
    "name": "Alejandro Narváez - AVSI (Artificial Vision Stacking Inspection)"
   }
  ],
  "kernelspec": {
   "display_name": "Python 3",
   "language": "python",
   "name": "python3"
  },
  "language_info": {
   "name": "python",
   "pygments_lexer": "ipython3"
  }
 },
 "nbformat": 4,
 "nbformat_minor": 5
}
