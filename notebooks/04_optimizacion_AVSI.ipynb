{
 "cells": [
  {
   "cell_type": "markdown",
   "id": "fc92febf",
   "metadata": {},
   "source": [
    "# 04 · Optimización de Hiperparámetros — AVSI\n",
    "**Artificial Vision Stacking Inspection** · *2025-10-22*\n",
    "\n",
    "Este notebook ejecuta una **búsqueda en malla (Grid Search)** con PyTorch/torchvision para **ResNet-18** y analiza la **sensibilidad** de hiperparámetros clave:\n",
    "- `lr` (learning rate)\n",
    "- `weight_decay`\n",
    "- `batch_size`\n",
    "- `freeze_backbone` (congelar o no el backbone)\n",
    "- `epochs` (corto para búsqueda)\n",
    "\n",
    "Genera:\n",
    "- Tabla de resultados por configuración\n",
    "- Curvas de validación del **mejor experimento**\n",
    "- Gráficas de sensibilidad por hiperparámetro\n"
   ]
  },
  {
   "cell_type": "markdown",
   "id": "e05bdcd3",
   "metadata": {},
   "source": [
    "## 1. Configuración y utilidades"
   ]
  },
  {
   "cell_type": "code",
   "execution_count": null,
   "id": "4e41ff80",
   "metadata": {},
   "outputs": [],
   "source": [
    "\n",
    "import os, json, time, itertools\n",
    "from pathlib import Path\n",
    "import numpy as np\n",
    "import pandas as pd\n",
    "import matplotlib.pyplot as plt\n",
    "\n",
    "import torch\n",
    "import torch.nn as nn\n",
    "import torch.optim as optim\n",
    "from torch.utils.data import DataLoader\n",
    "from torchvision import datasets, transforms, models\n",
    "\n",
    "from sklearn.model_selection import ParameterGrid\n",
    "\n",
    "ROOT = Path('.').resolve()\n",
    "DATA_PROC = ROOT / 'data' / 'processed'\n",
    "MODELS_DIR = ROOT / 'models'\n",
    "RESULTS_DIR = ROOT / 'results' / 'metrics'\n",
    "FIG_DIR = ROOT / 'results' / 'figures'\n",
    "\n",
    "for d in [MODELS_DIR, RESULTS_DIR, FIG_DIR]:\n",
    "    d.mkdir(parents=True, exist_ok=True)\n",
    "\n",
    "DEVICE = torch.device('cuda' if torch.cuda.is_available() else 'cpu')\n",
    "print('DEVICE:', DEVICE)\n"
   ]
  },
  {
   "cell_type": "markdown",
   "id": "083a9ea3",
   "metadata": {},
   "source": [
    "## 2. Datos (train/val/test)"
   ]
  },
  {
   "cell_type": "code",
   "execution_count": null,
   "id": "02a2c7b1",
   "metadata": {},
   "outputs": [],
   "source": [
    "\n",
    "train_dir = DATA_PROC / 'train'\n",
    "val_dir   = DATA_PROC / 'val'\n",
    "test_dir  = DATA_PROC / 'test'\n",
    "assert train_dir.exists() and val_dir.exists() and test_dir.exists(), \"Ejecuta 02_preprocesamiento antes.\"\n",
    "\n",
    "IMAGENET_MEAN = [0.485, 0.456, 0.406]\n",
    "IMAGENET_STD  = [0.229, 0.224, 0.225]\n",
    "\n",
    "IMG_SIZE = 224\n",
    "common_tfms = transforms.Compose([\n",
    "    transforms.Resize((IMG_SIZE, IMG_SIZE)),\n",
    "    transforms.ToTensor(),\n",
    "    transforms.Normalize(IMAGENET_MEAN, IMAGENET_STD),\n",
    "])\n",
    "\n",
    "train_ds = datasets.ImageFolder(train_dir, transform=common_tfms)\n",
    "val_ds   = datasets.ImageFolder(val_dir, transform=common_tfms)\n",
    "\n",
    "classes = train_ds.classes\n",
    "num_classes = len(classes)\n",
    "print('Clases:', classes)\n"
   ]
  },
  {
   "cell_type": "markdown",
   "id": "04f65fd1",
   "metadata": {},
   "source": [
    "## 3. Definición del modelo y funciones de entrenamiento"
   ]
  },
  {
   "cell_type": "code",
   "execution_count": null,
   "id": "7b97057d",
   "metadata": {},
   "outputs": [],
   "source": [
    "\n",
    "def build_model(num_classes, freeze_backbone=True):\n",
    "    model = models.resnet18(weights=models.ResNet18_Weights.DEFAULT)\n",
    "    if freeze_backbone:\n",
    "        for p in model.parameters():\n",
    "            p.requires_grad = False\n",
    "    in_features = model.fc.in_features\n",
    "    model.fc = nn.Linear(in_features, num_classes)\n",
    "    return model\n",
    "\n",
    "def run_epoch(model, loader, optimizer, criterion, train=True):\n",
    "    if train:\n",
    "        model.train()\n",
    "    else:\n",
    "        model.eval()\n",
    "    running_loss, correct, total = 0.0, 0, 0\n",
    "    for x, y in loader:\n",
    "        x, y = x.to(DEVICE), y.to(DEVICE)\n",
    "        if train:\n",
    "            optimizer.zero_grad()\n",
    "        with torch.set_grad_enabled(train):\n",
    "            out = model(x)\n",
    "            loss = criterion(out, y)\n",
    "            if train:\n",
    "                loss.backward()\n",
    "                optimizer.step()\n",
    "        running_loss += loss.item() * x.size(0)\n",
    "        pred = out.argmax(1)\n",
    "        correct += (pred == y).sum().item()\n",
    "        total += y.size(0)\n",
    "    return running_loss/total, correct/total\n"
   ]
  },
  {
   "cell_type": "markdown",
   "id": "8d697c09",
   "metadata": {},
   "source": [
    "## 4. Espacio de búsqueda"
   ]
  },
  {
   "cell_type": "code",
   "execution_count": null,
   "id": "ece9d5d6",
   "metadata": {},
   "outputs": [],
   "source": [
    "\n",
    "param_grid = {\n",
    "    'lr': [1e-4, 5e-4, 1e-3],\n",
    "    'weight_decay': [0.0, 1e-4],\n",
    "    'batch_size': [16, 32],\n",
    "    'freeze_backbone': [True, False],\n",
    "    'epochs': [5]  # corto para búsqueda; luego entrenar más en 03 con la mejor config\n",
    "}\n",
    "list(ParameterGrid(param_grid))[:3]\n"
   ]
  },
  {
   "cell_type": "markdown",
   "id": "7d8bba2c",
   "metadata": {},
   "source": [
    "## 5. Búsqueda en malla"
   ]
  },
  {
   "cell_type": "code",
   "execution_count": null,
   "id": "cbbc8e37",
   "metadata": {},
   "outputs": [],
   "source": [
    "\n",
    "results = []\n",
    "best = {'val_acc': 0.0}\n",
    "grid = list(ParameterGrid(param_grid))\n",
    "\n",
    "for i, cfg in enumerate(grid, 1):\n",
    "    print(f\"\\n>>> Config {i}/{len(grid)}: {cfg}\")\n",
    "    model = build_model(num_classes, freeze_backbone=cfg['freeze_backbone']).to(DEVICE)\n",
    "    optimizer = optim.Adam(model.parameters(), lr=cfg['lr'], weight_decay=cfg['weight_decay'])\n",
    "    criterion = nn.CrossEntropyLoss()\n",
    "\n",
    "    train_loader = DataLoader(train_ds, batch_size=cfg['batch_size'], shuffle=True,  num_workers=2)\n",
    "    val_loader   = DataLoader(val_ds,   batch_size=cfg['batch_size'], shuffle=False, num_workers=2)\n",
    "\n",
    "    history = {'train_loss':[], 'train_acc':[], 'val_loss':[], 'val_acc':[]}\n",
    "    for epoch in range(1, cfg['epochs']+1):\n",
    "        tr_loss, tr_acc = run_epoch(model, train_loader, optimizer, criterion, train=True)\n",
    "        val_loss, val_acc = run_epoch(model, val_loader, optimizer, criterion, train=False)\n",
    "        history['train_loss'].append(tr_loss)\n",
    "        history['train_acc'].append(tr_acc)\n",
    "        history['val_loss'].append(val_loss)\n",
    "        history['val_acc'].append(val_acc)\n",
    "        print(f\"  epoch {epoch}: tr_acc={tr_acc:.3f} val_acc={val_acc:.3f}\")\n",
    "\n",
    "    best_val = max(history['val_acc']) if history['val_acc'] else 0.0\n",
    "    row = dict(cfg)\n",
    "    row.update({'val_acc': best_val})\n",
    "    results.append(row)\n",
    "\n",
    "    # Guardar curva y modelo provisional si es el mejor\n",
    "    if best_val > best['val_acc']:\n",
    "        best = {'val_acc': best_val, 'cfg': cfg, 'history': history}\n",
    "        # Guardar histórico mejor\n",
    "        pd.DataFrame(history).to_csv(RESULTS_DIR / 'best_grid_history.csv', index=False)\n",
    "        torch.save({'model_state': model.state_dict(), 'classes': classes, 'cfg': cfg},\n",
    "                   MODELS_DIR / 'best_grid_model.pt')\n",
    "\n",
    "df_results = pd.DataFrame(results).sort_values('val_acc', ascending=False).reset_index(drop=True)\n",
    "df_results.to_csv(RESULTS_DIR / 'grid_results.csv', index=False)\n",
    "df_results.head()\n"
   ]
  },
  {
   "cell_type": "markdown",
   "id": "a083def0",
   "metadata": {},
   "source": [
    "## 6. Sensibilidad por hiperparámetro"
   ]
  },
  {
   "cell_type": "code",
   "execution_count": null,
   "id": "cbfcf688",
   "metadata": {},
   "outputs": [],
   "source": [
    "\n",
    "if not df_results.empty:\n",
    "    # Promedio por cada valor de hiperparámetro\n",
    "    def plot_param_sensitivity(df, param):\n",
    "        agg = df.groupby(param)['val_acc'].mean().reset_index()\n",
    "        plt.figure()\n",
    "        plt.bar(agg[param].astype(str), agg['val_acc'])\n",
    "        plt.title(f'Sensibilidad: {param} vs val_acc')\n",
    "        plt.xlabel(param)\n",
    "        plt.ylabel('val_acc promedio')\n",
    "        plt.savefig(FIG_DIR / f'sensitivity_{param}.png', bbox_inches='tight')\n",
    "        plt.show()\n",
    "        return agg\n",
    "\n",
    "    sens_lr = plot_param_sensitivity(df_results, 'lr')\n",
    "    sens_wd = plot_param_sensitivity(df_results, 'weight_decay')\n",
    "    sens_bs = plot_param_sensitivity(df_results, 'batch_size')\n",
    "    sens_fr = plot_param_sensitivity(df_results, 'freeze_backbone')\n",
    "else:\n",
    "    print('[Aviso] No hay resultados para graficar.')\n"
   ]
  },
  {
   "cell_type": "markdown",
   "id": "cd735fbe",
   "metadata": {},
   "source": [
    "## 7. Mejor configuración y curvas"
   ]
  },
  {
   "cell_type": "code",
   "execution_count": null,
   "id": "9312765d",
   "metadata": {},
   "outputs": [],
   "source": [
    "\n",
    "print('Top-5 configuraciones:')\n",
    "display(df_results.head(5))\n",
    "\n",
    "if (RESULTS_DIR / 'best_grid_history.csv').exists():\n",
    "    hist = pd.read_csv(RESULTS_DIR / 'best_grid_history.csv')\n",
    "    plt.figure()\n",
    "    plt.plot(hist['train_loss'], label='train_loss')\n",
    "    plt.plot(hist['val_loss'], label='val_loss')\n",
    "    plt.title('Pérdida (mejor grid)')\n",
    "    plt.xlabel('Época')\n",
    "    plt.ylabel('Loss')\n",
    "    plt.legend()\n",
    "    plt.savefig(FIG_DIR / 'best_grid_loss.png', bbox_inches='tight')\n",
    "    plt.show()\n",
    "\n",
    "    plt.figure()\n",
    "    plt.plot(hist['train_acc'], label='train_acc')\n",
    "    plt.plot(hist['val_acc'], label='val_acc')\n",
    "    plt.title('Exactitud (mejor grid)')\n",
    "    plt.xlabel('Época')\n",
    "    plt.ylabel('Accuracy')\n",
    "    plt.legend()\n",
    "    plt.savefig(FIG_DIR / 'best_grid_acc.png', bbox_inches='tight')\n",
    "    plt.show()\n"
   ]
  }
 ],
 "metadata": {
  "kernelspec": {
   "display_name": "Python 3",
   "language": "python",
   "name": "python3"
  },
  "language_info": {
   "name": "python",
   "pygments_lexer": "ipython3"
  }
 },
 "nbformat": 4,
 "nbformat_minor": 5
}
